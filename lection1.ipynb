{
 "cells": [
  {
   "cell_type": "code",
   "execution_count": 24,
   "metadata": {
    "collapsed": true
   },
   "outputs": [],
   "source": [
    "# Обмен переменных значениями\n",
    "a = 2\n",
    "b = 3\n",
    "# Через одну доп. переменную, стаканы с водой\n",
    "temp = a\n",
    "a = b\n",
    "b = temp\n",
    "# Каскадное присвание\n",
    "x = y = z = 0\n",
    "# Множественное присваивание\n",
    "# переменная = значение \n",
    "x, y, z = 1, 2, 3\n",
    "a, b = b, a "
   ]
  },
  {
   "cell_type": "code",
   "execution_count": 29,
   "metadata": {
    "collapsed": true
   },
   "outputs": [],
   "source": [
    "# Арифметические операции\n",
    "# Возведение в степень\n",
    "x = 2 ** 3\n",
    "y = 3 ** 0,5\n",
    "z = 2 ** 3 ** 2 # Справа налево\n",
    "# print(z) # 512\n",
    "\n",
    "# Целочисленное деление\n",
    "# print(16 // 3) # 5\n",
    "# print(16 % 3) # 1\n",
    "\n",
    "# print(-12 // 5) # -3\n",
    "# print(-12 % 5) # 3, Остаток от 0 до 5 "
   ]
  },
  {
   "cell_type": "code",
   "execution_count": null,
   "metadata": {
    "collapsed": true
   },
   "outputs": [],
   "source": [
    "# Управляющие операции\n",
    "# Цикл while - стадион\n",
    "while условие: # Заголовок\n",
    "    # Тело цикла\n",
    "    опрератор 1\n",
    "    оператор N\n",
    "# Итерация - однократное выполнение тела цикла"
   ]
  },
  {
   "cell_type": "code",
   "execution_count": 33,
   "metadata": {},
   "outputs": [
    {
     "name": "stdout",
     "output_type": "stream",
     "text": [
      "1\n",
      "3\n",
      "5\n",
      "7\n",
      "9\n"
     ]
    }
   ],
   "source": [
    "for x in range(1, 10, 2):\n",
    "    print(x)"
   ]
  }
 ],
 "metadata": {
  "kernelspec": {
   "display_name": "Python 3",
   "language": "python",
   "name": "python3"
  },
  "language_info": {
   "codemirror_mode": {
    "name": "ipython",
    "version": 3
   },
   "file_extension": ".py",
   "mimetype": "text/x-python",
   "name": "python",
   "nbconvert_exporter": "python",
   "pygments_lexer": "ipython3",
   "version": "3.6.3"
  }
 },
 "nbformat": 4,
 "nbformat_minor": 2
}
